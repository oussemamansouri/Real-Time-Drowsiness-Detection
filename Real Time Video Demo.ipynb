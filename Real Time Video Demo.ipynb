{
 "cells": [
  {
   "cell_type": "markdown",
   "metadata": {},
   "source": [
    "# Real Time Video Demo"
   ]
  },
  {
   "cell_type": "markdown",
   "metadata": {},
   "source": [
    "## Importing Required Libraries"
   ]
  },
  {
   "cell_type": "code",
   "execution_count": 1,
   "metadata": {},
   "outputs": [],
   "source": [
    "import cv2\n",
    "import numpy as np\n",
    "import tensorflow as tf\n",
    "import time\n",
    "import winsound  # For Windows beep alert"
   ]
  },
  {
   "cell_type": "markdown",
   "metadata": {},
   "source": [
    "## Load the trained model And Defining Class Labels"
   ]
  },
  {
   "cell_type": "code",
   "execution_count": 2,
   "metadata": {},
   "outputs": [],
   "source": [
    "new_model = tf.keras.models.load_model('models/MyModel1.h5')\n",
    "class_names = ['Close-Eyes', 'Open-Eyes']"
   ]
  },
  {
   "cell_type": "markdown",
   "metadata": {},
   "source": [
    "## Set sound frequency and duration"
   ]
  },
  {
   "cell_type": "code",
   "execution_count": 10,
   "metadata": {},
   "outputs": [],
   "source": [
    "frequency = 2500  # Hz\n",
    "duration = 2000   # 2 seconds"
   ]
  },
  {
   "cell_type": "markdown",
   "metadata": {},
   "source": [
    "## Load Haarcascades for face and eyes (including eyeglasses)"
   ]
  },
  {
   "cell_type": "code",
   "execution_count": 8,
   "metadata": {},
   "outputs": [],
   "source": [
    "face_cascade = cv2.CascadeClassifier(\"haarcascade_frontalface_default.xml\")\n",
    "eye_cascade = cv2.CascadeClassifier(\"haarcascade_eye.xml\")  # Normal eye cascade\n",
    "eyeglasses_cascade = cv2.CascadeClassifier(\"haarcascade_eye_tree_eyeglasses.xml\")  # Eyeglasses-friendly cascade"
   ]
  },
  {
   "cell_type": "markdown",
   "metadata": {},
   "source": [
    "## Open webcam For A Real-Time Video Demo\n",
    "- The code captures video from the webcam.\n",
    "- Detects faces and eyes using OpenCV.\n",
    "- Uses a deep learning model to classify eye state.\n",
    "- Alerts the user if no face is detected for 3 seconds.\n",
    "- Triggers a sleep alert if eyes are closed for too long."
   ]
  },
  {
   "cell_type": "code",
   "execution_count": null,
   "metadata": {},
   "outputs": [],
   "source": [
    "# Open webcam\n",
    "cap = cv2.VideoCapture(0)\n",
    "cap.set(3, 400)  # Set width\n",
    "cap.set(4, 500)  # Set height\n",
    "\n",
    "if not cap.isOpened():\n",
    "    raise IOError(\"Cannot Open Webcam\")\n",
    "\n",
    "counter = 3  # Counter for closed eyes\n",
    "status = \"Open Eyes\"\n",
    "face_detected_time = time.time()  # Track time since last face detection\n",
    "\n",
    "while True:\n",
    "    ret, frame = cap.read()\n",
    "    if not ret:\n",
    "        break  # Exit if frame not captured\n",
    "\n",
    "    gray = cv2.cvtColor(frame, cv2.COLOR_BGR2GRAY)  # Convert to grayscale\n",
    "\n",
    "    # Detect faces\n",
    "    faces = face_cascade.detectMultiScale(gray, 1.1, 5)\n",
    "\n",
    "    if len(faces) == 0:\n",
    "        # If no face detected for more than 3 seconds, alert\n",
    "        if time.time() - face_detected_time > 3:\n",
    "            cv2.putText(frame, 'Face Missing Alert!', (50, 150), cv2.FONT_HERSHEY_SIMPLEX, 1, (0, 0, 255), 2)\n",
    "            winsound.Beep(frequency, duration)  # Play alert sound\n",
    "    else:\n",
    "        face_detected_time = time.time()  # Reset face detected timer\n",
    "\n",
    "    eyes_detected = False  # Flag to check if eyes are detected\n",
    "\n",
    "    for (x, y, w, h) in faces:\n",
    "        roi_gray = gray[y:y+h, x:x+w]\n",
    "        roi_color = frame[y:y+h, x:x+w]\n",
    "\n",
    "        # Draw face rectangle\n",
    "        cv2.rectangle(frame, (x, y), (x+w, y+h), (255, 255, 0), 2)\n",
    "\n",
    "        # Resize face for model prediction\n",
    "        face_resized = cv2.resize(roi_color, (224, 224))  # Model expects 224x224\n",
    "        face_resized = np.expand_dims(face_resized, axis=0)  # Add batch dimension\n",
    "\n",
    "        # Predict eye state\n",
    "        prediction = new_model.predict(face_resized)\n",
    "        predicted_class = class_names[np.argmax(prediction[0])]\n",
    "        status = predicted_class\n",
    "\n",
    "        # First, try detecting eyes with the normal cascade\n",
    "        eyes = eye_cascade.detectMultiScale(roi_gray, 1.1, 5)\n",
    "\n",
    "        # If no eyes detected, try detecting with eyeglasses cascade\n",
    "        if len(eyes) == 0:\n",
    "            eyes = eyeglasses_cascade.detectMultiScale(roi_gray, 1.1, 5)\n",
    "\n",
    "        if len(eyes) > 0:\n",
    "            eyes_detected = True\n",
    "            for (ex, ey, ew, eh) in eyes:\n",
    "                cv2.rectangle(roi_color, (ex, ey), (ex+ew, ey+eh), (0, 255, 0), 2)\n",
    "\n",
    "    # If no eyes detected, assume eyes are closed\n",
    "    if not eyes_detected:\n",
    "        counter += 1\n",
    "        status = \"Closed Eyes\"\n",
    "        color = (0, 0, 255)  # Red frame\n",
    "    else:\n",
    "        counter = 0  # Reset counter when eyes are open\n",
    "        status = \"Open Eyes\"\n",
    "        color = (0, 255, 0)  # Green frame\n",
    "\n",
    "    # Draw status text\n",
    "    cv2.putText(frame, status, (50, 50), cv2.FONT_HERSHEY_SIMPLEX, 1, color, 2)\n",
    "\n",
    "    # Alert if eyes are closed for too long\n",
    "    if counter > 5:\n",
    "        cv2.putText(frame, 'Sleep Alert !!', (50, 100), cv2.FONT_HERSHEY_SIMPLEX, 1, (0, 0, 255), 2)\n",
    "        winsound.Beep(frequency, duration)  # Play beep sound on Windows\n",
    "        counter = 0  # Reset counter after alert\n",
    "\n",
    "    # Show the frame\n",
    "    cv2.imshow(\"Drowsiness Detection\", frame)\n",
    "\n",
    "    # Break the loop when 'Esc' key is pressed\n",
    "    if cv2.waitKey(1) & 0xFF == 27:  # 27 is the ASCII code for 'Esc'\n",
    "        break\n",
    "\n",
    "# Release resources\n",
    "cap.release()\n",
    "cv2.destroyAllWindows()\n"
   ]
  }
 ],
 "metadata": {
  "kernelspec": {
   "display_name": "Python 3",
   "language": "python",
   "name": "python3"
  },
  "language_info": {
   "codemirror_mode": {
    "name": "ipython",
    "version": 3
   },
   "file_extension": ".py",
   "mimetype": "text/x-python",
   "name": "python",
   "nbconvert_exporter": "python",
   "pygments_lexer": "ipython3",
   "version": "3.9.0"
  }
 },
 "nbformat": 4,
 "nbformat_minor": 2
}
